{
  "nbformat": 4,
  "nbformat_minor": 0,
  "metadata": {
    "colab": {
      "provenance": [],
      "include_colab_link": true
    },
    "kernelspec": {
      "name": "python3",
      "display_name": "Python 3"
    },
    "language_info": {
      "name": "python"
    }
  },
  "cells": [
    {
      "cell_type": "markdown",
      "metadata": {
        "id": "view-in-github",
        "colab_type": "text"
      },
      "source": [
        "<a href=\"https://colab.research.google.com/github/riikuid/wkk4/blob/main/Kecerdasan_Komputasional_Seven_Segment.ipynb\" target=\"_parent\"><img src=\"https://colab.research.google.com/assets/colab-badge.svg\" alt=\"Open In Colab\"/></a>"
      ]
    },
    {
      "cell_type": "code",
      "execution_count": null,
      "metadata": {
        "id": "aL6Ue1IZDZxM"
      },
      "outputs": [],
      "source": [
        "import pandas as pd\n",
        "import numpy as np\n",
        "import matplotlib.pyplot as plt\n",
        "from sklearn.neural_network import MLPClassifier as MLP"
      ]
    },
    {
      "cell_type": "code",
      "source": [
        "dataset = pd.read_csv('XOR.csv')\n",
        "dataset"
      ],
      "metadata": {
        "id": "5GzslDfhEvaG"
      },
      "execution_count": null,
      "outputs": []
    },
    {
      "cell_type": "code",
      "source": [
        "# Memisahkan fitur (data) dan label (target)\n",
        "data = dataset.iloc[:, 0:-1]  # Semua kecuali kolom terakhir\n",
        "label = dataset.iloc[:, -1]   # Kolom terakhir"
      ],
      "metadata": {
        "id": "9AlhN4lNFCSS"
      },
      "execution_count": null,
      "outputs": []
    },
    {
      "cell_type": "code",
      "source": [
        "# Inisialisasi array berisi nilai iterasi\n",
        "iter = np.array([10, 20, 30, 40, 50, 100, 150, 200, 250, 300])"
      ],
      "metadata": {
        "id": "6WgBGIB4FNHG"
      },
      "execution_count": null,
      "outputs": []
    },
    {
      "cell_type": "code",
      "source": [
        "# Mean Square Error (MSE)\n",
        "def mse(actual, pred):\n",
        "    actual, pred = np.array(actual), np.array(pred)\n",
        "    return np.square(np.subtract(actual,pred)).mean()"
      ],
      "metadata": {
        "id": "m3dxWk9pFtrp"
      },
      "execution_count": null,
      "outputs": []
    },
    {
      "cell_type": "code",
      "source": [
        "for i in range (0,10):\n",
        "    # Membuat model MLP dengan parameter yang ditentukan\n",
        "    model = MLP(hidden_layer_sizes=(7), max_iter=iter[i], activation='logistic', learning_rate_init=0.1)\n",
        "\n",
        "    # Melatih model dengan data dan label\n",
        "    model.fit(data,label)\n",
        "\n",
        "    # Memprediksi label menggunakan model\n",
        "    pred = model.predict(data)\n",
        "\n",
        "    # Menghitung MSE\n",
        "    if i == 0:\n",
        "        error = np.array(mse(label, pred))\n",
        "    else:\n",
        "        error = np.append(error,[mse(label,pred)])\n",
        "\n",
        "    # Menampilkan score model pada setiap iterasi\n",
        "    print('score: ', model.score(data, label))"
      ],
      "metadata": {
        "colab": {
          "base_uri": "https://localhost:8080/"
        },
        "id": "y9ahy4kcHO9c",
        "outputId": "f595cff5-3e17-4edb-9506-645a513aa9ab"
      },
      "execution_count": null,
      "outputs": [
        {
          "output_type": "stream",
          "name": "stderr",
          "text": [
            "/usr/local/lib/python3.10/dist-packages/sklearn/neural_network/_multilayer_perceptron.py:690: ConvergenceWarning: Stochastic Optimizer: Maximum iterations (10) reached and the optimization hasn't converged yet.\n",
            "  warnings.warn(\n",
            "/usr/local/lib/python3.10/dist-packages/sklearn/neural_network/_multilayer_perceptron.py:690: ConvergenceWarning: Stochastic Optimizer: Maximum iterations (20) reached and the optimization hasn't converged yet.\n",
            "  warnings.warn(\n",
            "/usr/local/lib/python3.10/dist-packages/sklearn/neural_network/_multilayer_perceptron.py:690: ConvergenceWarning: Stochastic Optimizer: Maximum iterations (30) reached and the optimization hasn't converged yet.\n",
            "  warnings.warn(\n",
            "/usr/local/lib/python3.10/dist-packages/sklearn/neural_network/_multilayer_perceptron.py:690: ConvergenceWarning: Stochastic Optimizer: Maximum iterations (40) reached and the optimization hasn't converged yet.\n",
            "  warnings.warn(\n",
            "/usr/local/lib/python3.10/dist-packages/sklearn/neural_network/_multilayer_perceptron.py:690: ConvergenceWarning: Stochastic Optimizer: Maximum iterations (50) reached and the optimization hasn't converged yet.\n",
            "  warnings.warn(\n",
            "/usr/local/lib/python3.10/dist-packages/sklearn/neural_network/_multilayer_perceptron.py:690: ConvergenceWarning: Stochastic Optimizer: Maximum iterations (100) reached and the optimization hasn't converged yet.\n",
            "  warnings.warn(\n"
          ]
        },
        {
          "output_type": "stream",
          "name": "stdout",
          "text": [
            "score:  0.5\n",
            "score:  0.75\n",
            "score:  0.75\n",
            "score:  0.75\n",
            "score:  1.0\n",
            "score:  1.0\n",
            "score:  1.0\n",
            "score:  1.0\n",
            "score:  0.5\n",
            "score:  1.0\n"
          ]
        }
      ]
    },
    {
      "cell_type": "code",
      "source": [
        "# Plot Grafik MSE\n",
        "plt.plot(iter, error)\n",
        "plt.xlabel('Iterasi')\n",
        "plt.ylabel('MSE')\n",
        "plt.title('Gradient Descent')\n",
        "plt.show()"
      ],
      "metadata": {
        "colab": {
          "base_uri": "https://localhost:8080/",
          "height": 472
        },
        "id": "jIVHTTMtIyd4",
        "outputId": "357dd461-2f7b-467a-8931-8beb17b6a7db"
      },
      "execution_count": null,
      "outputs": [
        {
          "output_type": "display_data",
          "data": {
            "text/plain": [
              "<Figure size 640x480 with 1 Axes>"
            ],
            "image/png": "[encoded data removed]"
          },
          "metadata": {}
        }
      ]
    },
    {
      "cell_type": "code",
      "source": [],
      "metadata": {
        "id": "zRTPrNnZKYUF"
      },
      "execution_count": null,
      "outputs": []
    }
  ]
}